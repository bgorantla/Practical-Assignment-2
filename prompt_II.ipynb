{
 "cells": [
  {
   "cell_type": "markdown",
   "metadata": {},
   "source": [
    "# What drives the price of a car?\n",
    "\n",
    "![](images/kurt.jpeg)"
   ]
  },
  {
   "cell_type": "markdown",
   "metadata": {},
   "source": [
    "**OVERVIEW**\n",
    "\n",
    "In this application, you will explore a dataset from kaggle. The original dataset contained information on 3 million used cars. The provided dataset contains information on 426K cars to ensure speed of processing.  Your goal is to understand what factors make a car more or less expensive.  As a result of your analysis, you should provide clear recommendations to your client -- a used car dealership -- as to what consumers value in a used car."
   ]
  },
  {
   "cell_type": "markdown",
   "metadata": {},
   "source": [
    "### CRISP-DM Framework\n",
    "\n",
    "<center>\n",
    "    <img src = images/crisp.png width = 50%/>\n",
    "</center>\n",
    "\n",
    "\n",
    "To frame the task, throughout our practical applications we will refer back to a standard process in industry for data projects called CRISP-DM.  This process provides a framework for working through a data problem.  Your first step in this application will be to read through a brief overview of CRISP-DM [here](https://mo-pcco.s3.us-east-1.amazonaws.com/BH-PCMLAI/module_11/readings_starter.zip).  After reading the overview, answer the questions below."
   ]
  },
  {
   "cell_type": "markdown",
   "metadata": {},
   "source": [
    "### Business Understanding\n",
    "\n",
    "From a business perspective, we are tasked with identifying key drivers for used car prices.  In the CRISP-DM overview, we are asked to convert this business framing to a data problem definition.  Using a few sentences, reframe the task as a data task with the appropriate technical vocabulary. "
   ]
  },
  {
   "cell_type": "markdown",
   "metadata": {},
   "source": [
    "The CRISP-DM framework can be used for data mining projects acrosss a variety of industries.\n",
    "In this case, I need to develop machine learning algortihm that leverages historical data on used cars, including attributes such as model, size, year, region, etc. to predict the selling price of a used car and with that information, predict the kind of buyers for used cars. Using the learning algorithm, we can then predict what factors strongly influence the price of used cars and with that information, various business decisions can be made. "
   ]
  },
  {
   "cell_type": "markdown",
   "metadata": {},
   "source": [
    "### Data Understanding\n",
    "\n",
    "After considering the business understanding, we want to get familiar with our data.  Write down some steps that you would take to get to know the dataset and identify any quality issues within.  Take time to get to know the dataset and explore what information it contains and how this could be used to inform your business understanding."
   ]
  },
  {
   "cell_type": "code",
   "execution_count": 176,
   "metadata": {},
   "outputs": [],
   "source": [
    "#First thing to do is to read the data into a dataframe\n",
    "import pandas as pd\n",
    "car_data = pd.read_csv('data/vehicles.csv')"
   ]
  },
  {
   "cell_type": "code",
   "execution_count": 177,
   "metadata": {},
   "outputs": [
    {
     "name": "stdout",
     "output_type": "stream",
     "text": [
      "<class 'pandas.core.frame.DataFrame'>\n",
      "RangeIndex: 426880 entries, 0 to 426879\n",
      "Data columns (total 18 columns):\n",
      " #   Column        Non-Null Count   Dtype  \n",
      "---  ------        --------------   -----  \n",
      " 0   id            426880 non-null  int64  \n",
      " 1   region        426880 non-null  object \n",
      " 2   price         426880 non-null  int64  \n",
      " 3   year          425675 non-null  float64\n",
      " 4   manufacturer  409234 non-null  object \n",
      " 5   model         421603 non-null  object \n",
      " 6   condition     252776 non-null  object \n",
      " 7   cylinders     249202 non-null  object \n",
      " 8   fuel          423867 non-null  object \n",
      " 9   odometer      422480 non-null  float64\n",
      " 10  title_status  418638 non-null  object \n",
      " 11  transmission  424324 non-null  object \n",
      " 12  VIN           265838 non-null  object \n",
      " 13  drive         296313 non-null  object \n",
      " 14  size          120519 non-null  object \n",
      " 15  type          334022 non-null  object \n",
      " 16  paint_color   296677 non-null  object \n",
      " 17  state         426880 non-null  object \n",
      "dtypes: float64(2), int64(2), object(14)\n",
      "memory usage: 58.6+ MB\n"
     ]
    }
   ],
   "source": [
    "#Looking at the info of the data\n",
    "car_data.info()"
   ]
  },
  {
   "cell_type": "code",
   "execution_count": 178,
   "metadata": {},
   "outputs": [
    {
     "data": {
      "text/html": [
       "<div>\n",
       "<style scoped>\n",
       "    .dataframe tbody tr th:only-of-type {\n",
       "        vertical-align: middle;\n",
       "    }\n",
       "\n",
       "    .dataframe tbody tr th {\n",
       "        vertical-align: top;\n",
       "    }\n",
       "\n",
       "    .dataframe thead th {\n",
       "        text-align: right;\n",
       "    }\n",
       "</style>\n",
       "<table border=\"1\" class=\"dataframe\">\n",
       "  <thead>\n",
       "    <tr style=\"text-align: right;\">\n",
       "      <th></th>\n",
       "      <th>id</th>\n",
       "      <th>region</th>\n",
       "      <th>price</th>\n",
       "      <th>year</th>\n",
       "      <th>manufacturer</th>\n",
       "      <th>model</th>\n",
       "      <th>condition</th>\n",
       "      <th>cylinders</th>\n",
       "      <th>fuel</th>\n",
       "      <th>odometer</th>\n",
       "      <th>title_status</th>\n",
       "      <th>transmission</th>\n",
       "      <th>VIN</th>\n",
       "      <th>drive</th>\n",
       "      <th>size</th>\n",
       "      <th>type</th>\n",
       "      <th>paint_color</th>\n",
       "      <th>state</th>\n",
       "    </tr>\n",
       "  </thead>\n",
       "  <tbody>\n",
       "    <tr>\n",
       "      <th>0</th>\n",
       "      <td>7222695916</td>\n",
       "      <td>prescott</td>\n",
       "      <td>6000</td>\n",
       "      <td>NaN</td>\n",
       "      <td>NaN</td>\n",
       "      <td>NaN</td>\n",
       "      <td>NaN</td>\n",
       "      <td>NaN</td>\n",
       "      <td>NaN</td>\n",
       "      <td>NaN</td>\n",
       "      <td>NaN</td>\n",
       "      <td>NaN</td>\n",
       "      <td>NaN</td>\n",
       "      <td>NaN</td>\n",
       "      <td>NaN</td>\n",
       "      <td>NaN</td>\n",
       "      <td>NaN</td>\n",
       "      <td>az</td>\n",
       "    </tr>\n",
       "    <tr>\n",
       "      <th>1</th>\n",
       "      <td>7218891961</td>\n",
       "      <td>fayetteville</td>\n",
       "      <td>11900</td>\n",
       "      <td>NaN</td>\n",
       "      <td>NaN</td>\n",
       "      <td>NaN</td>\n",
       "      <td>NaN</td>\n",
       "      <td>NaN</td>\n",
       "      <td>NaN</td>\n",
       "      <td>NaN</td>\n",
       "      <td>NaN</td>\n",
       "      <td>NaN</td>\n",
       "      <td>NaN</td>\n",
       "      <td>NaN</td>\n",
       "      <td>NaN</td>\n",
       "      <td>NaN</td>\n",
       "      <td>NaN</td>\n",
       "      <td>ar</td>\n",
       "    </tr>\n",
       "    <tr>\n",
       "      <th>2</th>\n",
       "      <td>7221797935</td>\n",
       "      <td>florida keys</td>\n",
       "      <td>21000</td>\n",
       "      <td>NaN</td>\n",
       "      <td>NaN</td>\n",
       "      <td>NaN</td>\n",
       "      <td>NaN</td>\n",
       "      <td>NaN</td>\n",
       "      <td>NaN</td>\n",
       "      <td>NaN</td>\n",
       "      <td>NaN</td>\n",
       "      <td>NaN</td>\n",
       "      <td>NaN</td>\n",
       "      <td>NaN</td>\n",
       "      <td>NaN</td>\n",
       "      <td>NaN</td>\n",
       "      <td>NaN</td>\n",
       "      <td>fl</td>\n",
       "    </tr>\n",
       "    <tr>\n",
       "      <th>3</th>\n",
       "      <td>7222270760</td>\n",
       "      <td>worcester / central MA</td>\n",
       "      <td>1500</td>\n",
       "      <td>NaN</td>\n",
       "      <td>NaN</td>\n",
       "      <td>NaN</td>\n",
       "      <td>NaN</td>\n",
       "      <td>NaN</td>\n",
       "      <td>NaN</td>\n",
       "      <td>NaN</td>\n",
       "      <td>NaN</td>\n",
       "      <td>NaN</td>\n",
       "      <td>NaN</td>\n",
       "      <td>NaN</td>\n",
       "      <td>NaN</td>\n",
       "      <td>NaN</td>\n",
       "      <td>NaN</td>\n",
       "      <td>ma</td>\n",
       "    </tr>\n",
       "    <tr>\n",
       "      <th>4</th>\n",
       "      <td>7210384030</td>\n",
       "      <td>greensboro</td>\n",
       "      <td>4900</td>\n",
       "      <td>NaN</td>\n",
       "      <td>NaN</td>\n",
       "      <td>NaN</td>\n",
       "      <td>NaN</td>\n",
       "      <td>NaN</td>\n",
       "      <td>NaN</td>\n",
       "      <td>NaN</td>\n",
       "      <td>NaN</td>\n",
       "      <td>NaN</td>\n",
       "      <td>NaN</td>\n",
       "      <td>NaN</td>\n",
       "      <td>NaN</td>\n",
       "      <td>NaN</td>\n",
       "      <td>NaN</td>\n",
       "      <td>nc</td>\n",
       "    </tr>\n",
       "    <tr>\n",
       "      <th>...</th>\n",
       "      <td>...</td>\n",
       "      <td>...</td>\n",
       "      <td>...</td>\n",
       "      <td>...</td>\n",
       "      <td>...</td>\n",
       "      <td>...</td>\n",
       "      <td>...</td>\n",
       "      <td>...</td>\n",
       "      <td>...</td>\n",
       "      <td>...</td>\n",
       "      <td>...</td>\n",
       "      <td>...</td>\n",
       "      <td>...</td>\n",
       "      <td>...</td>\n",
       "      <td>...</td>\n",
       "      <td>...</td>\n",
       "      <td>...</td>\n",
       "      <td>...</td>\n",
       "    </tr>\n",
       "    <tr>\n",
       "      <th>95</th>\n",
       "      <td>7309798041</td>\n",
       "      <td>auburn</td>\n",
       "      <td>2100</td>\n",
       "      <td>2006.0</td>\n",
       "      <td>subaru</td>\n",
       "      <td>impreza</td>\n",
       "      <td>fair</td>\n",
       "      <td>4 cylinders</td>\n",
       "      <td>gas</td>\n",
       "      <td>97000.0</td>\n",
       "      <td>clean</td>\n",
       "      <td>automatic</td>\n",
       "      <td>NaN</td>\n",
       "      <td>NaN</td>\n",
       "      <td>NaN</td>\n",
       "      <td>hatchback</td>\n",
       "      <td>NaN</td>\n",
       "      <td>al</td>\n",
       "    </tr>\n",
       "    <tr>\n",
       "      <th>96</th>\n",
       "      <td>7309361405</td>\n",
       "      <td>auburn</td>\n",
       "      <td>80</td>\n",
       "      <td>2004.0</td>\n",
       "      <td>honda</td>\n",
       "      <td>NaN</td>\n",
       "      <td>excellent</td>\n",
       "      <td>6 cylinders</td>\n",
       "      <td>gas</td>\n",
       "      <td>94020.0</td>\n",
       "      <td>clean</td>\n",
       "      <td>automatic</td>\n",
       "      <td>NaN</td>\n",
       "      <td>NaN</td>\n",
       "      <td>NaN</td>\n",
       "      <td>NaN</td>\n",
       "      <td>NaN</td>\n",
       "      <td>al</td>\n",
       "    </tr>\n",
       "    <tr>\n",
       "      <th>97</th>\n",
       "      <td>7309271279</td>\n",
       "      <td>auburn</td>\n",
       "      <td>15990</td>\n",
       "      <td>2016.0</td>\n",
       "      <td>NaN</td>\n",
       "      <td>Scion iM Hatchback 4D</td>\n",
       "      <td>good</td>\n",
       "      <td>NaN</td>\n",
       "      <td>gas</td>\n",
       "      <td>29652.0</td>\n",
       "      <td>clean</td>\n",
       "      <td>other</td>\n",
       "      <td>JTNKARJEXGJ517925</td>\n",
       "      <td>fwd</td>\n",
       "      <td>NaN</td>\n",
       "      <td>hatchback</td>\n",
       "      <td>blue</td>\n",
       "      <td>al</td>\n",
       "    </tr>\n",
       "    <tr>\n",
       "      <th>98</th>\n",
       "      <td>7309271051</td>\n",
       "      <td>auburn</td>\n",
       "      <td>20590</td>\n",
       "      <td>2013.0</td>\n",
       "      <td>acura</td>\n",
       "      <td>mdx sport utility 4d</td>\n",
       "      <td>good</td>\n",
       "      <td>6 cylinders</td>\n",
       "      <td>gas</td>\n",
       "      <td>77087.0</td>\n",
       "      <td>clean</td>\n",
       "      <td>other</td>\n",
       "      <td>2HNYD2H30DH510846</td>\n",
       "      <td>NaN</td>\n",
       "      <td>NaN</td>\n",
       "      <td>other</td>\n",
       "      <td>silver</td>\n",
       "      <td>al</td>\n",
       "    </tr>\n",
       "    <tr>\n",
       "      <th>99</th>\n",
       "      <td>7309229548</td>\n",
       "      <td>auburn</td>\n",
       "      <td>29590</td>\n",
       "      <td>2018.0</td>\n",
       "      <td>audi</td>\n",
       "      <td>a6 2.0t premium sedan 4d</td>\n",
       "      <td>good</td>\n",
       "      <td>NaN</td>\n",
       "      <td>gas</td>\n",
       "      <td>13035.0</td>\n",
       "      <td>clean</td>\n",
       "      <td>other</td>\n",
       "      <td>WAUC8AFC6JN041814</td>\n",
       "      <td>fwd</td>\n",
       "      <td>NaN</td>\n",
       "      <td>sedan</td>\n",
       "      <td>NaN</td>\n",
       "      <td>al</td>\n",
       "    </tr>\n",
       "  </tbody>\n",
       "</table>\n",
       "<p>100 rows × 18 columns</p>\n",
       "</div>"
      ],
      "text/plain": [
       "            id                  region  price    year manufacturer  \\\n",
       "0   7222695916                prescott   6000     NaN          NaN   \n",
       "1   7218891961            fayetteville  11900     NaN          NaN   \n",
       "2   7221797935            florida keys  21000     NaN          NaN   \n",
       "3   7222270760  worcester / central MA   1500     NaN          NaN   \n",
       "4   7210384030              greensboro   4900     NaN          NaN   \n",
       "..         ...                     ...    ...     ...          ...   \n",
       "95  7309798041                  auburn   2100  2006.0       subaru   \n",
       "96  7309361405                  auburn     80  2004.0        honda   \n",
       "97  7309271279                  auburn  15990  2016.0          NaN   \n",
       "98  7309271051                  auburn  20590  2013.0        acura   \n",
       "99  7309229548                  auburn  29590  2018.0         audi   \n",
       "\n",
       "                       model  condition    cylinders fuel  odometer  \\\n",
       "0                        NaN        NaN          NaN  NaN       NaN   \n",
       "1                        NaN        NaN          NaN  NaN       NaN   \n",
       "2                        NaN        NaN          NaN  NaN       NaN   \n",
       "3                        NaN        NaN          NaN  NaN       NaN   \n",
       "4                        NaN        NaN          NaN  NaN       NaN   \n",
       "..                       ...        ...          ...  ...       ...   \n",
       "95                   impreza       fair  4 cylinders  gas   97000.0   \n",
       "96                       NaN  excellent  6 cylinders  gas   94020.0   \n",
       "97     Scion iM Hatchback 4D       good          NaN  gas   29652.0   \n",
       "98      mdx sport utility 4d       good  6 cylinders  gas   77087.0   \n",
       "99  a6 2.0t premium sedan 4d       good          NaN  gas   13035.0   \n",
       "\n",
       "   title_status transmission                VIN drive size       type  \\\n",
       "0           NaN          NaN                NaN   NaN  NaN        NaN   \n",
       "1           NaN          NaN                NaN   NaN  NaN        NaN   \n",
       "2           NaN          NaN                NaN   NaN  NaN        NaN   \n",
       "3           NaN          NaN                NaN   NaN  NaN        NaN   \n",
       "4           NaN          NaN                NaN   NaN  NaN        NaN   \n",
       "..          ...          ...                ...   ...  ...        ...   \n",
       "95        clean    automatic                NaN   NaN  NaN  hatchback   \n",
       "96        clean    automatic                NaN   NaN  NaN        NaN   \n",
       "97        clean        other  JTNKARJEXGJ517925   fwd  NaN  hatchback   \n",
       "98        clean        other  2HNYD2H30DH510846   NaN  NaN      other   \n",
       "99        clean        other  WAUC8AFC6JN041814   fwd  NaN      sedan   \n",
       "\n",
       "   paint_color state  \n",
       "0          NaN    az  \n",
       "1          NaN    ar  \n",
       "2          NaN    fl  \n",
       "3          NaN    ma  \n",
       "4          NaN    nc  \n",
       "..         ...   ...  \n",
       "95         NaN    al  \n",
       "96         NaN    al  \n",
       "97        blue    al  \n",
       "98      silver    al  \n",
       "99         NaN    al  \n",
       "\n",
       "[100 rows x 18 columns]"
      ]
     },
     "execution_count": 178,
     "metadata": {},
     "output_type": "execute_result"
    }
   ],
   "source": [
    "#Looking at the head of the data\n",
    "car_data.head(100)"
   ]
  },
  {
   "cell_type": "markdown",
   "metadata": {},
   "source": [
    "The VIN number of a car is completely unique. Any rows that have the same VIN number can be considered a duplicate and can be removed.\n"
   ]
  },
  {
   "cell_type": "code",
   "execution_count": 179,
   "metadata": {},
   "outputs": [
    {
     "name": "stdout",
     "output_type": "stream",
     "text": [
      "<class 'pandas.core.frame.DataFrame'>\n",
      "Int64Index: 118247 entries, 0 to 426833\n",
      "Data columns (total 18 columns):\n",
      " #   Column        Non-Null Count   Dtype  \n",
      "---  ------        --------------   -----  \n",
      " 0   id            118247 non-null  int64  \n",
      " 1   region        118247 non-null  object \n",
      " 2   price         118247 non-null  int64  \n",
      " 3   year          117653 non-null  float64\n",
      " 4   manufacturer  115179 non-null  object \n",
      " 5   model         117542 non-null  object \n",
      " 6   condition     61082 non-null   object \n",
      " 7   cylinders     70266 non-null   object \n",
      " 8   fuel          116608 non-null  object \n",
      " 9   odometer      116671 non-null  float64\n",
      " 10  title_status  114608 non-null  object \n",
      " 11  transmission  117010 non-null  object \n",
      " 12  VIN           118246 non-null  object \n",
      " 13  drive         90898 non-null   object \n",
      " 14  size          30310 non-null   object \n",
      " 15  type          102062 non-null  object \n",
      " 16  paint_color   87564 non-null   object \n",
      " 17  state         118247 non-null  object \n",
      "dtypes: float64(2), int64(2), object(14)\n",
      "memory usage: 17.1+ MB\n"
     ]
    }
   ],
   "source": [
    "#removing duplicate VINS\n",
    "car_data = car_data.drop_duplicates(subset = 'VIN', keep = 'first')\n",
    "car_data.info()"
   ]
  },
  {
   "cell_type": "markdown",
   "metadata": {},
   "source": [
    "It is also ideal to remove any rows with the same model, odometer but with a different price so as to not confuse the\n",
    "learning algorithm."
   ]
  },
  {
   "cell_type": "code",
   "execution_count": 180,
   "metadata": {},
   "outputs": [],
   "source": [
    "#removing the specified rows\n",
    "car_data = car_data.drop_duplicates(subset = ['model', 'year'] , keep = 'first')"
   ]
  },
  {
   "cell_type": "markdown",
   "metadata": {},
   "source": [
    "The id column isn't really a factor that affects the price of a car. The column can be removed completely."
   ]
  },
  {
   "cell_type": "code",
   "execution_count": 181,
   "metadata": {},
   "outputs": [],
   "source": [
    "car_data = car_data.drop(columns = 'id')"
   ]
  },
  {
   "cell_type": "markdown",
   "metadata": {},
   "source": [
    "The VIN of a car doesn't affect the price either"
   ]
  },
  {
   "cell_type": "code",
   "execution_count": 182,
   "metadata": {},
   "outputs": [],
   "source": [
    "car_data = car_data.drop(columns = 'VIN')"
   ]
  },
  {
   "cell_type": "code",
   "execution_count": 183,
   "metadata": {},
   "outputs": [
    {
     "data": {
      "text/plain": [
       "region              0\n",
       "price               0\n",
       "state               0\n",
       "model              55\n",
       "year              202\n",
       "transmission      217\n",
       "odometer          401\n",
       "fuel              932\n",
       "title_status     2016\n",
       "manufacturer     2088\n",
       "type             4464\n",
       "drive            8474\n",
       "paint_color      9787\n",
       "cylinders       11843\n",
       "condition       14260\n",
       "size            26257\n",
       "dtype: int64"
      ]
     },
     "execution_count": 183,
     "metadata": {},
     "output_type": "execute_result"
    }
   ],
   "source": [
    "car_data = car_data.convert_dtypes()\n",
    "car_data.isna().sum().sort_values(ascending = True)"
   ]
  },
  {
   "cell_type": "code",
   "execution_count": 184,
   "metadata": {},
   "outputs": [],
   "source": [
    "#Dropping other trivial attributes\n",
    "car_data = car_data.drop(columns = 'paint_color')\n",
    "car_data = car_data.drop(columns = 'cylinders')\n",
    "car_data = car_data.drop(columns = 'state')\n",
    "car_data = car_data.drop(columns = 'region')\n",
    "car_data = car_data.drop(columns = 'size')\n",
    "car_data = car_data.drop(columns = 'drive')\n",
    "#car_data = car_data.drop(columns = 'title_status')"
   ]
  },
  {
   "cell_type": "code",
   "execution_count": 185,
   "metadata": {},
   "outputs": [
    {
     "name": "stdout",
     "output_type": "stream",
     "text": [
      "<class 'pandas.core.frame.DataFrame'>\n",
      "Int64Index: 36223 entries, 0 to 426833\n",
      "Data columns (total 10 columns):\n",
      " #   Column        Non-Null Count  Dtype \n",
      "---  ------        --------------  ----- \n",
      " 0   price         36223 non-null  Int64 \n",
      " 1   year          36021 non-null  Int64 \n",
      " 2   manufacturer  34135 non-null  string\n",
      " 3   model         36168 non-null  string\n",
      " 4   condition     21963 non-null  string\n",
      " 5   fuel          35291 non-null  string\n",
      " 6   odometer      35822 non-null  Int64 \n",
      " 7   title_status  34207 non-null  string\n",
      " 8   transmission  36006 non-null  string\n",
      " 9   type          31759 non-null  string\n",
      "dtypes: Int64(3), string(7)\n",
      "memory usage: 3.1 MB\n"
     ]
    }
   ],
   "source": [
    "#Here is the final dataset with all the important attributes\n",
    "car_data.info()"
   ]
  },
  {
   "cell_type": "code",
   "execution_count": 186,
   "metadata": {},
   "outputs": [],
   "source": [
    "#Dropping any remaining rows with na values\n",
    "car_data = car_data.dropna()"
   ]
  },
  {
   "cell_type": "markdown",
   "metadata": {},
   "source": [
    "### Data Preparation\n",
    "\n",
    "After our initial exploration and fine tuning of the business understanding, it is time to construct our final dataset prior to modeling.  Here, we want to make sure to handle any integrity issues and cleaning, the engineering of new features, any transformations that we believe should happen (scaling, logarithms, normalization, etc.), and general preparation for modeling with `sklearn`. "
   ]
  },
  {
   "cell_type": "code",
   "execution_count": 187,
   "metadata": {},
   "outputs": [],
   "source": [
    "#Converting some of the non number columns into numbers so that a learning alg can be used on the data\n",
    "from sklearn.preprocessing import LabelEncoder\n",
    "le = LabelEncoder()\n",
    "car_data['manufacturer'] = le.fit_transform(car_data['manufacturer'])\n",
    "car_data['model'] = le.fit_transform(car_data['model'])\n",
    "car_data['condition'] = le.fit_transform(car_data['condition'])\n",
    "car_data['fuel'] = le.fit_transform(car_data['fuel'])\n",
    "car_data['title_status'] = le.fit_transform(car_data['title_status'])\n",
    "car_data['transmission'] = le.fit_transform(car_data['transmission'])\n",
    "car_data['type'] = le.fit_transform(car_data['type'])\n"
   ]
  },
  {
   "cell_type": "code",
   "execution_count": 188,
   "metadata": {},
   "outputs": [
    {
     "name": "stdout",
     "output_type": "stream",
     "text": [
      "<class 'pandas.core.frame.DataFrame'>\n",
      "Int64Index: 17725 entries, 27 to 426833\n",
      "Data columns (total 10 columns):\n",
      " #   Column        Non-Null Count  Dtype\n",
      "---  ------        --------------  -----\n",
      " 0   price         17725 non-null  Int64\n",
      " 1   year          17725 non-null  Int64\n",
      " 2   manufacturer  17725 non-null  int32\n",
      " 3   model         17725 non-null  int32\n",
      " 4   condition     17725 non-null  int32\n",
      " 5   fuel          17725 non-null  int32\n",
      " 6   odometer      17725 non-null  Int64\n",
      " 7   title_status  17725 non-null  int32\n",
      " 8   transmission  17725 non-null  int32\n",
      " 9   type          17725 non-null  int32\n",
      "dtypes: Int64(3), int32(7)\n",
      "memory usage: 1.1 MB\n"
     ]
    }
   ],
   "source": [
    "car_data.info()"
   ]
  },
  {
   "cell_type": "code",
   "execution_count": 189,
   "metadata": {},
   "outputs": [],
   "source": [
    "from sklearn.preprocessing import MinMaxScaler\n",
    "\n",
    "scaler = MinMaxScaler()\n",
    "normalized_car_data = pd.DataFrame(scaler.fit_transform(car_data), columns = car_data.columns)\n",
    "car_data = normalized_car_data"
   ]
  },
  {
   "cell_type": "markdown",
   "metadata": {},
   "source": [
    "Now that all the relevant columns have been converted into numbers, the learning algorithms can be applied."
   ]
  },
  {
   "cell_type": "markdown",
   "metadata": {},
   "source": [
    "### Modeling\n",
    "\n",
    "With your (almost?) final dataset in hand, it is now time to build some models.  Here, you should build a number of different regression models with the price as the target.  In building your models, you should explore different parameters and be sure to cross-validate your findings."
   ]
  },
  {
   "cell_type": "code",
   "execution_count": 191,
   "metadata": {},
   "outputs": [],
   "source": [
    "from sklearn.model_selection import train_test_split\n",
    "from sklearn.linear_model import LinearRegression\n",
    "from sklearn.metrics import mean_squared_error"
   ]
  },
  {
   "cell_type": "code",
   "execution_count": 192,
   "metadata": {},
   "outputs": [],
   "source": [
    "#makig the target variable and attribute dataframes\n",
    "X = car_data.drop('price', axis = 1)\n",
    "y = car_data['price']"
   ]
  },
  {
   "cell_type": "code",
   "execution_count": 193,
   "metadata": {},
   "outputs": [],
   "source": [
    "#splitting the data into training data and test data\n",
    "X_train, X_test, y_train, y_test = train_test_split(X, y, test_size=0.2, random_state=42)"
   ]
  },
  {
   "cell_type": "code",
   "execution_count": 194,
   "metadata": {},
   "outputs": [
    {
     "data": {
      "text/plain": [
       "LinearRegression()"
      ]
     },
     "execution_count": 194,
     "metadata": {},
     "output_type": "execute_result"
    }
   ],
   "source": [
    "#running a linear regression model on the data\n",
    "model = LinearRegression()\n",
    "model.fit(X_train, y_train)"
   ]
  },
  {
   "cell_type": "code",
   "execution_count": 195,
   "metadata": {},
   "outputs": [],
   "source": [
    "y_pred = model.predict(X_test)"
   ]
  },
  {
   "cell_type": "code",
   "execution_count": 196,
   "metadata": {},
   "outputs": [
    {
     "name": "stdout",
     "output_type": "stream",
     "text": [
      "MSE: 0.0001682849614032033\n"
     ]
    }
   ],
   "source": [
    "mse = mean_squared_error(y_test, y_pred)\n",
    "print(\"MSE: \" + str(mse))"
   ]
  },
  {
   "cell_type": "code",
   "execution_count": 197,
   "metadata": {},
   "outputs": [
    {
     "name": "stdout",
     "output_type": "stream",
     "text": [
      "year            0.026460\n",
      "manufacturer   -0.002289\n",
      "model           0.000860\n",
      "condition       0.003377\n",
      "fuel           -0.009012\n",
      "odometer       -0.195607\n",
      "title_status   -0.002731\n",
      "transmission    0.006861\n",
      "type           -0.000399\n",
      "dtype: float64\n"
     ]
    }
   ],
   "source": [
    "#getting the coefficents of the attributes\n",
    "coefficients = pd.Series(model.coef_, index=X.columns)\n",
    "print(coefficients)"
   ]
  },
  {
   "cell_type": "markdown",
   "metadata": {},
   "source": [
    "### Evaluation\n",
    "\n",
    "With some modeling accomplished, we aim to reflect on what we identify as a high quality model and what we are able to learn from this.  We should review our business objective and explore how well we can provide meaningful insight on drivers of used car prices.  Your goal now is to distill your findings and determine whether the earlier phases need revisitation and adjustment or if you have information of value to bring back to your client."
   ]
  },
  {
   "cell_type": "markdown",
   "metadata": {},
   "source": [
    "With the  linear regression model, I think I have enough information about the factors that affect the price of a used car\n",
    "the most."
   ]
  },
  {
   "cell_type": "markdown",
   "metadata": {},
   "source": [
    "### Deployment\n",
    "\n",
    "Now that we've settled on our models and findings, it is time to deliver the information to the client.  You should organize your work as a basic report that details your primary findings.  Keep in mind that your audience is a group of used car dealers interested in fine tuning their inventory."
   ]
  },
  {
   "cell_type": "markdown",
   "metadata": {},
   "source": [
    "By using a linear regression model, I have come to the following conslusions:\n",
    "Odometer is the number one factor that dictates the price of a car (reverse correlation). The higher the odometer reading,\n",
    "the lower the price and vice versa. The second most important fasctor is the year the\n",
    "car was manufactured in. The newer the car, the higher the price. The transmission type is the third most important factor and\n",
    "condition is the fourth most important factor.\n",
    "\n",
    "In summary, if a used car dealership is looking to sell higher priced cars, it should consider obtaining cars with low odometer readings that are also relatively new."
   ]
  }
 ],
 "metadata": {
  "kernelspec": {
   "display_name": "Python 3 (ipykernel)",
   "language": "python",
   "name": "python3"
  },
  "language_info": {
   "codemirror_mode": {
    "name": "ipython",
    "version": 3
   },
   "file_extension": ".py",
   "mimetype": "text/x-python",
   "name": "python",
   "nbconvert_exporter": "python",
   "pygments_lexer": "ipython3",
   "version": "3.9.13"
  },
  "widgets": {
   "application/vnd.jupyter.widget-state+json": {
    "state": {},
    "version_major": 2,
    "version_minor": 0
   }
  }
 },
 "nbformat": 4,
 "nbformat_minor": 4
}
